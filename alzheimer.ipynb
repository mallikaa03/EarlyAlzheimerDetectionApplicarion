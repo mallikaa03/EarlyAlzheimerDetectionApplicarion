{
  "nbformat": 4,
  "nbformat_minor": 0,
  "metadata": {
    "kernelspec": {
      "display_name": "Python 3",
      "language": "python",
      "name": "python3"
    },
    "language_info": {
      "codemirror_mode": {
        "name": "ipython",
        "version": 3
      },
      "file_extension": ".py",
      "mimetype": "text/x-python",
      "name": "python",
      "nbconvert_exporter": "python",
      "pygments_lexer": "ipython3",
      "version": "3.7.3"
    },
    "colab": {
      "name": "Copy of Alzheimer.ipynb",
      "provenance": []
    }
  },
  "cells": [
    {
      "cell_type": "code",
      "metadata": {
        "id": "K-IZMDC_PWHl"
      },
      "source": [
        "import pandas as pd\n",
        "import numpy as np\n",
        "import matplotlib.pyplot as plt\n",
        "import seaborn as sns\n",
        "import pickle\n",
        "import gc\n",
        "import warnings\n",
        "warnings.filterwarnings(\"ignore\")\n"
      ],
      "execution_count": 1,
      "outputs": []
    },
    {
      "cell_type": "code",
      "metadata": {
        "id": "tGD4ur75PWHx"
      },
      "source": [
        "data = pd.read_csv('oasis_longitudinal.csv')\n",
        "todel = ['Subject ID','MRI ID','Visit','MR Delay','Hand','eTIV']\n",
        "dataset = data.drop(todel,axis=1)\n"
      ],
      "execution_count": 2,
      "outputs": []
    },
    {
      "cell_type": "markdown",
      "metadata": {
        "id": "rsOe_Vu3mr7_"
      },
      "source": [
        "#Outlier Deletion"
      ]
    },
    {
      "cell_type": "code",
      "metadata": {
        "id": "oPI3FHR8mQ-N"
      },
      "source": [
        "dataset = dataset.drop(labels=[0,1,2,3], axis=0)"
      ],
      "execution_count": 3,
      "outputs": []
    },
    {
      "cell_type": "code",
      "metadata": {
        "id": "xcyNuC2QR-ed"
      },
      "source": [
        "dataset['SES'] = dataset['SES'].astype('object')\n",
        "dataset['CDR'] = dataset['CDR'].astype('object')\n"
      ],
      "execution_count": 4,
      "outputs": []
    },
    {
      "cell_type": "code",
      "metadata": {
        "id": "watujeW1PWH4"
      },
      "source": [
        "from sklearn.preprocessing import LabelEncoder\n",
        "for column in dataset.columns:\n",
        "    if dataset[column].dtype == type(object):\n",
        "        le = LabelEncoder()\n",
        "        dataset[column] = le.fit_transform(dataset[column])"
      ],
      "execution_count": 5,
      "outputs": []
    },
    {
      "cell_type": "code",
      "metadata": {
        "id": "kY41kIyVPWH5"
      },
      "source": [
        "# dataset.fillna(dataset.mode().iloc[0], inplace=True)\n",
        "dataset['SES'].fillna(dataset['SES'].mode().iloc[0], inplace = True)\n",
        "dataset['MMSE'].fillna(dataset['MMSE'].mean(),inplace=True)"
      ],
      "execution_count": 6,
      "outputs": []
    },
    {
      "cell_type": "code",
      "metadata": {
        "id": "-es8yiF6PWIQ"
      },
      "source": [
        "from sklearn.model_selection import train_test_split\n",
        "predictors = dataset.drop(\"Group\",axis=1)\n",
        "target = dataset[\"Group\"]\n",
        "X_train, X_test, Y_train, Y_test = train_test_split(predictors, target, test_size = 0.3, random_state = 1)"
      ],
      "execution_count": 7,
      "outputs": []
    },
    {
      "cell_type": "markdown",
      "metadata": {
        "id": "cL4ixIaAPWIh"
      },
      "source": [
        "## Random Forest"
      ]
    },
    {
      "cell_type": "code",
      "metadata": {
        "id": "yF63gBUuPWIi"
      },
      "source": [
        "from sklearn.ensemble import RandomForestClassifier\n",
        "from sklearn.metrics import accuracy_score\n",
        "\n",
        "max_accuracy = 0\n",
        "\n",
        "\n",
        "for x in range(2000):\n",
        "    rf = RandomForestClassifier(random_state=x)\n",
        "    rf.fit(X_train,Y_train)\n",
        "    Y_pred_rf = rf.predict(X_test)\n",
        "    current_accuracy = round(accuracy_score(Y_pred_rf,Y_test)*100,2)\n",
        "    if(current_accuracy>max_accuracy):\n",
        "        max_accuracy = current_accuracy\n",
        "        best_x = x\n",
        "\n",
        "rf = RandomForestClassifier(random_state=best_x)\n",
        "rf.fit(X_train,Y_train)\n",
        "Y_pred_rf = rf.predict(X_test)"
      ],
      "execution_count": 9,
      "outputs": []
    },
    {
      "cell_type": "code",
      "metadata": {
        "id": "oE-j2cWmPWIj",
        "colab": {
          "base_uri": "https://localhost:8080/"
        },
        "outputId": "9a12f839-c10c-4425-e149-1d193c75cd09"
      },
      "source": [
        "# score_rf = round(accuracy_score(Y_pred_rf,Y_test)*100,2)\n",
        "\n",
        "# print(\"The accuracy score achieved using random forest classifier is: \"+str(score_rf)+\" %\")\n",
        "# rf.predict(X_test)"
      ],
      "execution_count": 10,
      "outputs": [
        {
          "output_type": "stream",
          "name": "stdout",
          "text": [
            "The accuracy score achieved using random forest classifier is: 93.69 %\n"
          ]
        },
        {
          "output_type": "execute_result",
          "data": {
            "text/plain": [
              "array([2, 1, 1, 2, 1, 2, 1, 2, 2, 2, 1, 2, 2, 2, 0, 1, 1, 2, 2, 0, 2, 2,\n",
              "       2, 1, 1, 2, 1, 1, 2, 2, 1, 1, 1, 2, 1, 2, 1, 2, 0, 2, 2, 2, 1, 2,\n",
              "       2, 2, 1, 2, 2, 1, 2, 1, 2, 1, 2, 2, 1, 1, 1, 1, 2, 2, 2, 1, 2, 2,\n",
              "       1, 2, 1, 1, 1, 1, 1, 2, 2, 2, 1, 2, 2, 1, 2, 2, 2, 1, 1, 1, 1, 2,\n",
              "       2, 1, 1, 2, 1, 2, 1, 2, 2, 2, 2, 0, 1, 2, 2, 1, 1, 1, 1, 1, 2, 2,\n",
              "       1])"
            ]
          },
          "metadata": {},
          "execution_count": 10
        }
      ]
    },
    {
      "cell_type": "code",
      "metadata": {
        "id": "_1o2ZEbAgqTG"
      },
      "source": [
        "pickle.dump(rf, open('alzheimer.pkl', 'wb'))"
      ],
      "execution_count": 11,
      "outputs": []
    },
    {
      "cell_type": "code",
      "metadata": {
        "id": "CL_JZ9c_mUQn"
      },
      "source": [
        ""
      ],
      "execution_count": null,
      "outputs": []
    }
  ]
}